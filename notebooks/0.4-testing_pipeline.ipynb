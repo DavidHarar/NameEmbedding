{
 "cells": [
  {
   "attachments": {},
   "cell_type": "markdown",
   "metadata": {},
   "source": [
    "# Summary\n",
    "In this notebook we text different experiment configurations, after moving functions into `.py` files.\n"
   ]
  },
  {
   "cell_type": "code",
   "execution_count": 1,
   "metadata": {},
   "outputs": [
    {
     "name": "stderr",
     "output_type": "stream",
     "text": [
      "/home/david/anaconda3/envs/demo_env/lib/python3.12/site-packages/tqdm/auto.py:21: TqdmWarning: IProgress not found. Please update jupyter and ipywidgets. See https://ipywidgets.readthedocs.io/en/stable/user_install.html\n",
      "  from .autonotebook import tqdm as notebook_tqdm\n",
      "2024-12-22 23:44:52,207 - INFO - Starting experiment 1\n",
      "2024-12-22 23:44:52,208 - INFO - Experiment location: ./experiments/experiment_1\n",
      "2024-12-22 23:44:52,209 - INFO - Setting up the tokenizer\n",
      "2024-12-22 23:44:52,209 - INFO - Training new tokenizer\n",
      "/home/david/anaconda3/envs/demo_env/lib/python3.12/site-packages/transformers/tokenization_utils_base.py:1601: FutureWarning: `clean_up_tokenization_spaces` was not set. It will be set to `True` by default. This behavior will be depracted in transformers v4.45, and will be then set to `False` by default. For more details check this issue: https://github.com/huggingface/transformers/issues/31884\n",
      "  warnings.warn(\n",
      "2024-12-22 23:44:52,370 - INFO - Initializing the model\n"
     ]
    },
    {
     "name": "stdout",
     "output_type": "stream",
     "text": [
      "Saving log to logs/training_logs/experiment_1\n",
      "\n",
      "\n",
      "\n",
      "Didn't load any tokenizer\n"
     ]
    },
    {
     "name": "stderr",
     "output_type": "stream",
     "text": [
      "2024-12-22 23:44:52,746 - INFO - Preparing datasets\n"
     ]
    },
    {
     "name": "stdout",
     "output_type": "stream",
     "text": [
      "Preprocessing text into tokenized examples...\n"
     ]
    },
    {
     "name": "stderr",
     "output_type": "stream",
     "text": [
      "Tokenizing text: 100%|██████████| 10000/10000 [00:00<00:00, 12233.72it/s]\n"
     ]
    },
    {
     "name": "stdout",
     "output_type": "stream",
     "text": [
      "Preprocessing text into tokenized examples...\n"
     ]
    },
    {
     "name": "stderr",
     "output_type": "stream",
     "text": [
      "Tokenizing text: 100%|██████████| 10000/10000 [00:00<00:00, 15277.78it/s]\n",
      "2024-12-22 23:44:54,222 - INFO - Starting training\n"
     ]
    },
    {
     "data": {
      "text/html": [
       "\n",
       "    <div>\n",
       "      \n",
       "      <progress value='21' max='200' style='width:300px; height:20px; vertical-align: middle;'></progress>\n",
       "      [ 21/200 00:03 < 00:34, 5.13 it/s, Epoch 1/10]\n",
       "    </div>\n",
       "    <table border=\"1\" class=\"dataframe\">\n",
       "  <thead>\n",
       " <tr style=\"text-align: left;\">\n",
       "      <th>Epoch</th>\n",
       "      <th>Training Loss</th>\n",
       "      <th>Validation Loss</th>\n",
       "    </tr>\n",
       "  </thead>\n",
       "  <tbody>\n",
       "  </tbody>\n",
       "</table><p>"
      ],
      "text/plain": [
       "<IPython.core.display.HTML object>"
      ]
     },
     "metadata": {},
     "output_type": "display_data"
    },
    {
     "name": "stdout",
     "output_type": "stream",
     "text": [
      "Saving log to logs/training_logs/experiment_2\n",
      "\n",
      "\n",
      "\n",
      "Didn't load any tokenizer\n"
     ]
    },
    {
     "name": "stderr",
     "output_type": "stream",
     "text": [
      "2024-12-22 23:45:55,012 - INFO - Preparing datasets\n",
      "2024-12-22 23:45:55,012 - INFO - Preparing datasets\n"
     ]
    },
    {
     "name": "stdout",
     "output_type": "stream",
     "text": [
      "Preprocessing text into tokenized examples...\n"
     ]
    },
    {
     "name": "stderr",
     "output_type": "stream",
     "text": [
      "Tokenizing text: 100%|██████████| 10000/10000 [00:00<00:00, 13931.82it/s]\n"
     ]
    },
    {
     "name": "stdout",
     "output_type": "stream",
     "text": [
      "Preprocessing text into tokenized examples...\n"
     ]
    },
    {
     "name": "stderr",
     "output_type": "stream",
     "text": [
      "Tokenizing text: 100%|██████████| 10000/10000 [00:00<00:00, 11258.47it/s]\n",
      "2024-12-22 23:45:56,622 - INFO - Starting training\n",
      "2024-12-22 23:45:56,622 - INFO - Starting training\n"
     ]
    },
    {
     "data": {
      "text/html": [
       "\n",
       "    <div>\n",
       "      \n",
       "      <progress value='20' max='200' style='width:300px; height:20px; vertical-align: middle;'></progress>\n",
       "      [ 20/200 00:03 < 00:34, 5.15 it/s, Epoch 0.95/10]\n",
       "    </div>\n",
       "    <table border=\"1\" class=\"dataframe\">\n",
       "  <thead>\n",
       " <tr style=\"text-align: left;\">\n",
       "      <th>Epoch</th>\n",
       "      <th>Training Loss</th>\n",
       "      <th>Validation Loss</th>\n",
       "    </tr>\n",
       "  </thead>\n",
       "  <tbody>\n",
       "  </tbody>\n",
       "</table><p>"
      ],
      "text/plain": [
       "<IPython.core.display.HTML object>"
      ]
     },
     "metadata": {},
     "output_type": "display_data"
    },
    {
     "name": "stdout",
     "output_type": "stream",
     "text": [
      "Saving log to logs/training_logs/experiment_3\n",
      "\n",
      "\n",
      "\n"
     ]
    },
    {
     "name": "stderr",
     "output_type": "stream",
     "text": [
      "2024-12-22 23:47:04,297 - INFO - Preparing datasets\n",
      "2024-12-22 23:47:04,297 - INFO - Preparing datasets\n",
      "2024-12-22 23:47:04,297 - INFO - Preparing datasets\n"
     ]
    },
    {
     "name": "stdout",
     "output_type": "stream",
     "text": [
      "Preprocessing text into tokenized examples...\n"
     ]
    },
    {
     "name": "stderr",
     "output_type": "stream",
     "text": [
      "Tokenizing text: 100%|██████████| 10000/10000 [00:00<00:00, 13723.07it/s]\n"
     ]
    },
    {
     "name": "stdout",
     "output_type": "stream",
     "text": [
      "Preprocessing text into tokenized examples...\n"
     ]
    },
    {
     "name": "stderr",
     "output_type": "stream",
     "text": [
      "Tokenizing text: 100%|██████████| 10000/10000 [00:00<00:00, 14291.99it/s]\n",
      "2024-12-22 23:47:05,728 - INFO - Starting training\n",
      "2024-12-22 23:47:05,728 - INFO - Starting training\n",
      "2024-12-22 23:47:05,728 - INFO - Starting training\n"
     ]
    },
    {
     "data": {
      "text/html": [
       "\n",
       "    <div>\n",
       "      \n",
       "      <progress value='20' max='200' style='width:300px; height:20px; vertical-align: middle;'></progress>\n",
       "      [ 20/200 00:10 < 01:47, 1.67 it/s, Epoch 0.95/10]\n",
       "    </div>\n",
       "    <table border=\"1\" class=\"dataframe\">\n",
       "  <thead>\n",
       " <tr style=\"text-align: left;\">\n",
       "      <th>Epoch</th>\n",
       "      <th>Training Loss</th>\n",
       "      <th>Validation Loss</th>\n",
       "    </tr>\n",
       "  </thead>\n",
       "  <tbody>\n",
       "  </tbody>\n",
       "</table><p>"
      ],
      "text/plain": [
       "<IPython.core.display.HTML object>"
      ]
     },
     "metadata": {},
     "output_type": "display_data"
    },
    {
     "data": {
      "image/png": "[encoded data removed]",
      "text/plain": [
       "<Figure size 640x480 with 1 Axes>"
      ]
     },
     "metadata": {},
     "output_type": "display_data"
    }
   ],
   "source": [
    "import os\n",
    "import sys\n",
    "import mlflow\n",
    "\n",
    "os.chdir(\"/home/david/Desktop/projects/NameEmbedding\")\n",
    "\n",
    "from src.experiment import *\n",
    "from src.train import general_config, tokenizer_config, model_config, train_config\n",
    "\n",
    "general_config = {\n",
    "    'model_type':'RoBERTa',\n",
    "    'experiments_folder':'./experiments',\n",
    "    'training_set_path':'./data/raw/text/training_names_processed_10k.txt',\n",
    "    'validation_set_path':'./data/raw/text/validation_names_10k.txt',\n",
    "}\n",
    "\n",
    "for model_type in ['RoBERTa', 'BERT', 'DeBERTa']:\n",
    "    tokenizer_config['model_type'] = model_type\n",
    "    model_config['model_type'] = model_type\n",
    "    general_config['model_type'] = model_type\n",
    "\n",
    "    pipeline(general_config, tokenizer_config, model_config, train_config)\n",
    "\n",
    "\n",
    "\n",
    "\n",
    "# # Step 4: Set up MLflow\n",
    "# mlflow.set_experiment(\"1st experiment\")  # Replace with your experiment name\n",
    "\n",
    "# # Step 5: Run the experiment using mlflow (tomorrow)\n",
    "# with mlflow.start_run():\n",
    "#     # Step 5.1: Log experiment parameters\n",
    "#     mlflow.log_params({\n",
    "#         \"learning_rate\": 5e-5,\n",
    "#         \"batch_size\": 16,\n",
    "#         \"epochs\": 3\n",
    "#     })\n",
    "\n",
    "#     # Step 5.2: Data Preparation\n",
    "#     print(\"Running data preparation...\")\n",
    "#     train_data, val_data = data_preparation.prepare_data()  # Example function call\n",
    "\n",
    "#     # Step 5.3: Model Training\n",
    "#     print(\"Running model training...\")\n",
    "#     model = model_training.train_model(train_data)  # Example function call\n",
    "\n",
    "#     # Step 5.4: Evaluation\n",
    "#     print(\"Evaluating the model...\")\n",
    "#     metrics = evaluation.evaluate_model(model, val_data)  # Example function call\n",
    "\n",
    "#     # Step 5.5: Log metrics and the model\n",
    "#     mlflow.log_metrics(metrics)\n",
    "#     mlflow.pytorch.log_model(model, \"model\")  # Example: logging a PyTorch model\n",
    "\n",
    "# print(\"Experiment completed!\")\n"
   ]
  }
 ],
 "metadata": {
  "kernelspec": {
   "display_name": "demo_env",
   "language": "python",
   "name": "python3"
  },
  "language_info": {
   "codemirror_mode": {
    "name": "ipython",
    "version": 3
   },
   "file_extension": ".py",
   "mimetype": "text/x-python",
   "name": "python",
   "nbconvert_exporter": "python",
   "pygments_lexer": "ipython3",
   "version": "3.12.5"
  },
  "orig_nbformat": 4
 },
 "nbformat": 4,
 "nbformat_minor": 2
}
